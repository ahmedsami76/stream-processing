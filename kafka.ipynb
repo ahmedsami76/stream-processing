{
 "cells": [
  {
   "cell_type": "markdown",
   "metadata": {},
   "source": [
    "![Apache Kafka](./images/apache_kafka.png)"
   ]
  },
  {
   "cell_type": "markdown",
   "metadata": {},
   "source": [
    "# Meet Kafka"
   ]
  },
  {
   "cell_type": "markdown",
   "metadata": {},
   "source": [
    "## Publish/Subscribe Messaging"
   ]
  },
  {
   "cell_type": "markdown",
   "metadata": {},
   "source": [
    "![simple](./images/01direct.png)"
   ]
  },
  {
   "cell_type": "markdown",
   "metadata": {},
   "source": [
    "![complex](./images/02complex.png)"
   ]
  },
  {
   "cell_type": "markdown",
   "metadata": {},
   "source": [
    "![solution1](./images/03pubsubsol.png)"
   ]
  },
  {
   "cell_type": "markdown",
   "metadata": {},
   "source": [
    "![solution2](./images/04multipurpose.png)"
   ]
  },
  {
   "cell_type": "markdown",
   "metadata": {},
   "source": [
    "## Enter Kafka"
   ]
  },
  {
   "cell_type": "markdown",
   "metadata": {},
   "source": [
    "### Messages and Batches"
   ]
  },
  {
   "cell_type": "markdown",
   "metadata": {},
   "source": [
    "The unit of data within Kafka is called a _message_ which is analgous to a row in a database or a record.   \n",
    "A message is an array of bytes that does not have a specific format or meaning to Kafka.  \n",
    "A message can have a piece of metadata reffered to as a _key_.  \n",
    "Keys are sometimes used to store all messages with the same key in the same partition.  \n",
    "Messages are writtin into Kafka in _batches_. A _batch_ is a collection of messages produced to same topic and partition to save roundtrip times.  \n"
   ]
  },
  {
   "cell_type": "markdown",
   "metadata": {},
   "source": [
    "### Schemas"
   ]
  },
  {
   "cell_type": "markdown",
   "metadata": {},
   "source": [
    "Messages are opaque byte arrays to Kafka, but additional structure or _schema_ maybe imposed to the message so that it can be easily understood. JSON or XML are possible schemas and are easily understood by users. Many Kafka developers favor the use of Apache Avro. In Apache Avro schema is isolated from the message payload."
   ]
  },
  {
   "cell_type": "markdown",
   "metadata": {},
   "source": [
    "### Topics and Partitions"
   ]
  },
  {
   "cell_type": "markdown",
   "metadata": {},
   "source": [
    "Messages in Kafka are categorized into _topics_. Topics are analogous to Database tables or folders in a filesystem. Topics are additionally broken into a number of _partitions_. A partition is like a commit log and messages are written to it in an append-only fashion and are read from begging to end. Partitions are also a way to provide redundancy and scalability. Partitions can be horizontally distributed and scaled, and can also be replicated."
   ]
  },
  {
   "cell_type": "markdown",
   "metadata": {},
   "source": []
  }
 ],
 "metadata": {
  "language_info": {
   "name": "python"
  },
  "orig_nbformat": 4
 },
 "nbformat": 4,
 "nbformat_minor": 2
}
