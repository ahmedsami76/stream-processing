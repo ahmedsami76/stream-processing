{
 "cells": [
  {
   "cell_type": "markdown",
   "metadata": {},
   "source": [
    "![Apache Kafka](./images/apache_kafka.png)"
   ]
  },
  {
   "cell_type": "markdown",
   "metadata": {},
   "source": [
    "# Meet Kafka"
   ]
  },
  {
   "cell_type": "markdown",
   "metadata": {},
   "source": [
    "## Publish/Subscribe Messaging"
   ]
  },
  {
   "cell_type": "markdown",
   "metadata": {},
   "source": [
    "![simple](./images/01direct.png)"
   ]
  },
  {
   "cell_type": "markdown",
   "metadata": {},
   "source": [
    "![complex](./images/02complex.png)"
   ]
  },
  {
   "cell_type": "markdown",
   "metadata": {},
   "source": [
    "![solution1](./images/03pubsubsol.png)"
   ]
  },
  {
   "cell_type": "markdown",
   "metadata": {},
   "source": [
    "![solution2](./images/04multipurpose.png)"
   ]
  },
  {
   "cell_type": "markdown",
   "metadata": {},
   "source": [
    "## Enter Kafka"
   ]
  },
  {
   "cell_type": "markdown",
   "metadata": {},
   "source": [
    "### Messages and Batches"
   ]
  },
  {
   "cell_type": "markdown",
   "metadata": {},
   "source": [
    "The unit of data within Kafka is called a _message_ which is analgous to a row in a database or a record.   \n",
    "A message is an array of bytes that does not have a specific format or meaning to Kafka.  \n",
    "A message can have a piece of metadata reffered to as a _key_.  \n",
    "Keys are sometimes used to store all messages with the same key in the same partition.  \n",
    "Messages are writtin into Kafka in _batches_. A _batch_ is a collection of messages produced to same topic and partition to save roundtrip times.  \n"
   ]
  },
  {
   "cell_type": "markdown",
   "metadata": {},
   "source": [
    "### Schemas"
   ]
  },
  {
   "cell_type": "markdown",
   "metadata": {},
   "source": [
    "Messages are opaque byte arrays to Kafka, but additional structure or _schema_ maybe imposed to the message so that it can be easily understood. JSON or XML are possible schemas and are easily understood by users. Many Kafka developers favor the use of Apache Avro. In Apache Avro schema is isolated from the message payload."
   ]
  },
  {
   "cell_type": "markdown",
   "metadata": {},
   "source": [
    "### Topics and Partitions"
   ]
  },
  {
   "cell_type": "markdown",
   "metadata": {},
   "source": [
    "Messages in Kafka are categorized into _topics_. Topics are analogous to Database tables or folders in a filesystem. Topics are additionally broken into a number of _partitions_. A partition is like a commit log and messages are written to it in an append-only fashion and are read from begging to end. Partitions are also a way to provide redundancy and scalability. Partitions can be horizontally distributed and scaled, and can also be replicated."
   ]
  },
  {
   "cell_type": "markdown",
   "metadata": {},
   "source": [
    "![Topics and Partitions](./images/05topicsandpartitions.png)"
   ]
  },
  {
   "cell_type": "markdown",
   "metadata": {},
   "source": [
    "### Producers and Consumers"
   ]
  },
  {
   "cell_type": "markdown",
   "metadata": {},
   "source": [
    "Kafka clients are users of the Kafka system: _Producers_, _Consumers_ and _Stream Processing_.  \n",
    "_Producers_ create new messages (aka _Publishers_ or _Writers_)  \n",
    "_Consumers_ read messages (aka _Subscribers_ or _Readers_)  \n",
    "_Offset_ is an integer that identifies the message location in a partition  \n"
   ]
  },
  {
   "cell_type": "markdown",
   "metadata": {},
   "source": [
    "Consumers keep track of the last message they read using the offset.  \n",
    "Consumers work as part of a _consumer group_.  \n",
    "A consumer group is one or more consumers that work together to consume a topic.\n",
    "Each consumer in a consumer group is called a _member_.  \n",
    "Each partition in the topic is only consumed by one member (Partition to Member is Many-to_One).  \n",
    "If one member fails other members in the consumer group can scale and reassigned to the partitions.  "
   ]
  },
  {
   "cell_type": "markdown",
   "metadata": {},
   "source": [
    "![Consumer Groups](./images/06producerconsumer.png)"
   ]
  },
  {
   "cell_type": "markdown",
   "metadata": {},
   "source": [
    "### Brokers and Clusters"
   ]
  },
  {
   "cell_type": "markdown",
   "metadata": {},
   "source": [
    "A single Kafka server is called a _Broker_.  \n",
    "The broker does the following:  \n",
    "* Receives messages from producers  \n",
    "* Stores messages on storage  \n",
    "* Services consumers responding to to fetch requests  "
   ]
  },
  {
   "cell_type": "markdown",
   "metadata": {},
   "source": [
    "Kafka brokers are designed to operate as parts of a _cluster_.  \n",
    "One broker will work as a _controller_ to assign/moniter/administer partitions to brokers in the cluster.  \n",
    "A partition is owned by a broker called _partition leader_ and can be replicated to other brokers in the cluster called _partition followers_.  "
   ]
  },
  {
   "cell_type": "markdown",
   "metadata": {},
   "source": [
    "![Cluster](./images/07replication.png)"
   ]
  },
  {
   "cell_type": "markdown",
   "metadata": {},
   "source": [
    "## Why Kafka?"
   ]
  },
  {
   "cell_type": "markdown",
   "metadata": {},
   "source": [
    "\n",
    "* Multiple Producers  \n",
    "* Multiple Consumers\n",
    "* Disk-Based Retention\n",
    "* Scalable\n",
    "* High Performance  \n",
    "* Platform Features  \n",
    "    * Kafka Connect  \n",
    "    * Kafka Streams  \n"
   ]
  },
  {
   "cell_type": "markdown",
   "metadata": {},
   "source": [
    "## The Data Ecosystem"
   ]
  },
  {
   "cell_type": "markdown",
   "metadata": {},
   "source": [
    "![Ecosystem](./images/08bigdataecosystem.png)"
   ]
  },
  {
   "cell_type": "markdown",
   "metadata": {},
   "source": []
  }
 ],
 "metadata": {
  "language_info": {
   "name": "python"
  },
  "orig_nbformat": 4
 },
 "nbformat": 4,
 "nbformat_minor": 2
}
